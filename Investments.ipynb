{
 "cells": [
  {
   "cell_type": "markdown",
   "metadata": {},
   "source": [
    "# Investments notebook\n",
    "\n",
    "This notebook is focused in going through your investments gains and how this are going."
   ]
  },
  {
   "cell_type": "code",
   "execution_count": null,
   "metadata": {
    "scrolled": false
   },
   "outputs": [],
   "source": [
    "LOAD_CONFIGS = {\n",
    "    'data_path': \"./data\", # Directory that contains the expenses data\n",
    "    'nubank_file_pattern': \"nubank*.csv\",\n",
    "    'splitwise_groups': [\n",
    "        'jacas-keter',\n",
    "        '2021-mozi-e-eu',\n",
    "        '2020-mozi-e-eu',\n",
    "        '2019-mozi-e-eu',\n",
    "        '2018-mozi-e-eu'\n",
    "    ],\n",
    "    'manual_file_pattern': \"Extrato outras contas*Despesas*.csv\",\n",
    "    'incomes_file_pattern': \"Extrato outras contas*Rendimentos*.csv\",\n",
    "    'person_who_pays': \"Lucas Alencar\", # Person name that the expenses will be extracted from Splitwise csv\n",
    "}\n",
    "\n",
    "from datetime import date, timedelta\n",
    "from date_helpers import months_ago, years_ago\n",
    "\n",
    "# Date used to make month analysis through the notebook\n",
    "BASE_DATE = months_ago(date.today(), 1)\n",
    "\n",
    "# Period used for analysis\n",
    "BASE_PERIOD_START = years_ago(BASE_DATE, 1)\n",
    "BASE_PERIOD_END = BASE_DATE\n",
    "\n",
    "# Year you were born\n",
    "YEAR_OF_BIRTH = 1991\n",
    "\n",
    "## Data load and preprocess\n",
    "from plotly.offline import init_notebook_mode\n",
    "init_notebook_mode(connected=True)\n",
    "\n",
    "from IPython.display import display\n",
    "import record_summary as rs\n",
    "\n",
    "from load import investments\n",
    "invest = investments.load(**LOAD_CONFIGS)"
   ]
  },
  {
   "cell_type": "markdown",
   "metadata": {},
   "source": [
    "# Month returns"
   ]
  },
  {
   "cell_type": "code",
   "execution_count": null,
   "metadata": {},
   "outputs": [],
   "source": [
    "from investments import monthly as monthly_investments\n",
    "from load import central_bank\n",
    "\n",
    "# BASE_DATE = date(2021, 9, 1)\n",
    "print(\">>> Month of analysis:\", BASE_DATE.month, BASE_DATE.year)\n",
    "\n",
    "current_ipca = central_bank.ipca_for_month(BASE_DATE)\n",
    "current_ipca = current_ipca * 100 if current_ipca else None\n",
    "print(\"> Current IPCA:\", current_ipca, \"%\")\n",
    "\n",
    "RETURN_FOR_MONTH_GOAL = 0.005\n",
    "RETURN_WITH_INFLATION_GOAL = 0.0045\n",
    "\n",
    "# Table with returns for the current month\n",
    "summary_invest = monthly_investments.summary(invest, BASE_DATE).sort_values('Return for month (%)', ascending=False)\n",
    "\n",
    "display(monthly_investments.style_summary(summary_invest, RETURN_FOR_MONTH_GOAL, RETURN_WITH_INFLATION_GOAL))"
   ]
  },
  {
   "cell_type": "markdown",
   "metadata": {},
   "source": [
    "# Return over time\n",
    "\n",
    "- General view comparing all investments type"
   ]
  },
  {
   "cell_type": "code",
   "execution_count": null,
   "metadata": {},
   "outputs": [],
   "source": [
    "from plotting import over_time as plot_over_time\n",
    "from investments import over_time\n",
    "\n",
    "# TODO Add cumulative return + applications over time\n",
    "# TODO Add cumulative applications over time\n",
    "# TODO Add cumulative applications compared to applications + return\n",
    "\n",
    "def return_over_time_plots(invest, starting_month, ending_month, title_group):\n",
    "    print('from:', starting_month, 'to:', ending_month)\n",
    "    plot_over_time.plot(over_time.return_percentage_over_time(invest)\\\n",
    "                            .loc[starting_month:ending_month, title_group], \n",
    "                   title='Return over time (%)')\n",
    "\n",
    "    plot_over_time.plot(over_time.cumulative_percentage_return_over_time(invest)\\\n",
    "                            .loc[starting_month:ending_month, title_group], \n",
    "                   title='Cumulative return over time (%)')\n",
    "\n",
    "    plot_over_time.plot(over_time.cumulative_return_over_time(invest)\\\n",
    "                            .loc[starting_month:ending_month, title_group], \n",
    "                   title='Cumulative return over time')"
   ]
  },
  {
   "cell_type": "code",
   "execution_count": null,
   "metadata": {},
   "outputs": [],
   "source": [
    "# Get all investments titles\n",
    "# import pandas as pd\n",
    "# display(pd.DataFrame(invest['title'].unique(), columns=['title']))\n",
    "\n",
    "RETURN_STARTING_MONTH = BASE_PERIOD_START.strftime('%Y-%m')\n",
    "RETURN_ENDING_MONTH = BASE_PERIOD_END.strftime('%Y-%m')\n",
    "\n",
    "# Some visualizations to use and see the return history for the groups\n",
    "PLOT_TITLE_GROUP = ['Nuconta Renda Fixa 100% CDI',\n",
    "                    'Tesouro Selic 2023',\n",
    "                    'CDB Banco Indusval 130% do CDI',\n",
    "                    'TARPON GT FIC FIA',\n",
    "                    'Magnetis Diversificação Multimercados',\n",
    "                    'Magnetis Diversificação Ações',\n",
    "                    'Bitcoin Coinbase',\n",
    "                    'IVVB11',\n",
    "                    'SMAL11',\n",
    "                    'BCFF11',\n",
    "                    'DISB34',\n",
    "                    'MGLU3']\n",
    "\n",
    "return_over_time_plots(invest, RETURN_STARTING_MONTH, RETURN_ENDING_MONTH, PLOT_TITLE_GROUP)"
   ]
  },
  {
   "cell_type": "markdown",
   "metadata": {},
   "source": [
    "### Return over time: renda fixa\n",
    "\n",
    "- Other investments in renda fixa are better than Tesouro Selic? They are still worth it?"
   ]
  },
  {
   "cell_type": "code",
   "execution_count": null,
   "metadata": {},
   "outputs": [],
   "source": [
    "# BASE_PERIOD_START = date(2018, 1, 1)\n",
    "RETURN_STARTING_MONTH = BASE_PERIOD_START.strftime('%Y-%m')\n",
    "RETURN_ENDING_MONTH = BASE_PERIOD_END.strftime('%Y-%m')\n",
    "\n",
    "from investments import filters\n",
    "\n",
    "fixed_term_types = ['Renda Fixa', \n",
    "                    'Tesouro Direto',\n",
    "                    'CDB',\n",
    "                    'LCI',\n",
    "                    'LCA',\n",
    "                    'RDB',\n",
    "                    'Tesouro SELIC',\n",
    "                    'Tesouro IPCA',\n",
    "                    'Fundos Renda Fixa',\n",
    "                    'Fundos Mistos']\n",
    "\n",
    "PLOT_TITLE_GROUP = filters.currently_invested_titles_by_type(invest, fixed_term_types)\n",
    "\n",
    "return_over_time_plots(invest, RETURN_STARTING_MONTH, RETURN_ENDING_MONTH, PLOT_TITLE_GROUP)"
   ]
  },
  {
   "cell_type": "markdown",
   "metadata": {},
   "source": [
    "### Return over time: renda variavel\n",
    "\n",
    "- Is Magnetis investing in good stocks?\n",
    "- Is the cumulative return increasing?\n",
    "- Is Magnetis funds performing better than ETFs?"
   ]
  },
  {
   "cell_type": "code",
   "execution_count": null,
   "metadata": {},
   "outputs": [],
   "source": [
    "# BASE_PERIOD_START = date(2018, 1, 1)\n",
    "RETURN_STARTING_MONTH = BASE_PERIOD_START.strftime('%Y-%m')\n",
    "RETURN_ENDING_MONTH = BASE_PERIOD_END.strftime('%Y-%m')\n",
    "\n",
    "from investments import filters\n",
    "variable_types = ['Fundos Ações', \n",
    "                  'Fundos Multimercado', \n",
    "                  'Ações',\n",
    "                  'Fundos Imobiliários',\n",
    "                  'ETF',\n",
    "                  'BDR',\n",
    "                  'Fundos Mistos',\n",
    "                  'Fundos Internacionais']\n",
    "PLOT_TITLE_GROUP = filters.currently_invested_titles_by_type(invest, variable_types)\n",
    "\n",
    "return_over_time_plots(invest, RETURN_STARTING_MONTH, RETURN_ENDING_MONTH, PLOT_TITLE_GROUP)"
   ]
  },
  {
   "cell_type": "markdown",
   "metadata": {},
   "source": [
    "### Return over time: Ações\n",
    "\n",
    "- Is Magnetis investing in good stocks?"
   ]
  },
  {
   "cell_type": "code",
   "execution_count": null,
   "metadata": {},
   "outputs": [],
   "source": [
    "# BASE_PERIOD_START = date(2018, 1, 1)\n",
    "RETURN_STARTING_MONTH = BASE_PERIOD_START.strftime('%Y-%m')\n",
    "RETURN_ENDING_MONTH = BASE_PERIOD_END.strftime('%Y-%m')\n",
    "\n",
    "from investments import filters\n",
    "variable_types = ['Fundos Ações', \n",
    "                  'Ações',\n",
    "                  'BDR']\n",
    "PLOT_TITLE_GROUP = filters.currently_invested_titles_by_type(invest, variable_types)\n",
    "\n",
    "return_over_time_plots(invest, RETURN_STARTING_MONTH, RETURN_ENDING_MONTH, PLOT_TITLE_GROUP)"
   ]
  },
  {
   "cell_type": "markdown",
   "metadata": {},
   "source": [
    "### Return over time: ETFs\n",
    "\n",
    "- Is Magnetis vs my ETFs?"
   ]
  },
  {
   "cell_type": "code",
   "execution_count": null,
   "metadata": {},
   "outputs": [],
   "source": [
    "# BASE_PERIOD_START = date(2018, 1, 1)\n",
    "RETURN_STARTING_MONTH = BASE_PERIOD_START.strftime('%Y-%m')\n",
    "RETURN_ENDING_MONTH = BASE_PERIOD_END.strftime('%Y-%m')\n",
    "\n",
    "from investments import filters\n",
    "variable_types = ['Fundos Ações', \n",
    "                  'Fundos Multimercado', \n",
    "                  'ETF',\n",
    "                  'Fundos Mistos',\n",
    "                  'Fundos Internacionais']\n",
    "PLOT_TITLE_GROUP = filters.currently_invested_titles_by_type(invest, variable_types)\n",
    "\n",
    "return_over_time_plots(invest, RETURN_STARTING_MONTH, RETURN_ENDING_MONTH, PLOT_TITLE_GROUP)"
   ]
  },
  {
   "cell_type": "markdown",
   "metadata": {},
   "source": [
    "### Return over time: crypto\n",
    "\n",
    "- Does bitcoin is still a good experiment?\n",
    "- Compared with other risky investments, they are worth it?"
   ]
  },
  {
   "cell_type": "code",
   "execution_count": null,
   "metadata": {},
   "outputs": [],
   "source": [
    "# BASE_PERIOD_START = date(2018, 1, 1)\n",
    "RETURN_STARTING_MONTH = BASE_PERIOD_START.strftime('%Y-%m')\n",
    "RETURN_ENDING_MONTH = BASE_PERIOD_END.strftime('%Y-%m')\n",
    "\n",
    "from investments import filters\n",
    "fixed_term_types = ['Criptomoedas', 'Bitcoin', 'Ether', 'DAI']\n",
    "PLOT_TITLE_GROUP = filters.currently_invested_titles_by_type(invest, fixed_term_types)\n",
    "\n",
    "# Addign other risky investments to compare with Crypto\n",
    "PLOT_TITLE_GROUP = PLOT_TITLE_GROUP + ['TARPON GT FIC FIA', 'Magnetis Diversificação Ações']\n",
    "\n",
    "return_over_time_plots(invest, RETURN_STARTING_MONTH, RETURN_ENDING_MONTH, PLOT_TITLE_GROUP)"
   ]
  },
  {
   "cell_type": "markdown",
   "metadata": {},
   "source": [
    "### Return over time: tesouros\n",
    "\n",
    "There are better opportunities of investments over these Tesouros (Government Bonds)?"
   ]
  },
  {
   "cell_type": "code",
   "execution_count": null,
   "metadata": {},
   "outputs": [],
   "source": [
    "# BASE_PERIOD_START = date(2018, 1, 1)\n",
    "RETURN_STARTING_MONTH = BASE_PERIOD_START.strftime('%Y-%m')\n",
    "RETURN_ENDING_MONTH = BASE_PERIOD_END.strftime('%Y-%m')\n",
    "\n",
    "from investments import filters\n",
    "fixed_term_types = ['Tesouro Direto', 'Tesouro IPCA', 'Tesouro SELIC']\n",
    "PLOT_TITLE_GROUP = filters.currently_invested_titles_by_type(invest, fixed_term_types)\n",
    "\n",
    "return_over_time_plots(invest, RETURN_STARTING_MONTH, RETURN_ENDING_MONTH, PLOT_TITLE_GROUP)"
   ]
  },
  {
   "cell_type": "markdown",
   "metadata": {},
   "source": [
    "# Monthly view"
   ]
  },
  {
   "cell_type": "code",
   "execution_count": null,
   "metadata": {},
   "outputs": [],
   "source": [
    "from investments import assets\n",
    "\n",
    "ASSETS_SUMMARY_START_DATE = BASE_PERIOD_START\n",
    "ASSETS_SUMMARY_END_DATE = BASE_PERIOD_END\n",
    "\n",
    "assets_summary = assets.summary(invest, ASSETS_SUMMARY_START_DATE, ASSETS_SUMMARY_END_DATE)\n",
    "display(assets.style_summary(assets_summary))\n",
    "\n",
    "from investments import distribution\n",
    "distribution.plot(invest, 'type', BASE_DATE)"
   ]
  },
  {
   "cell_type": "code",
   "execution_count": null,
   "metadata": {},
   "outputs": [],
   "source": [
    "from plotting import over_time\n",
    "over_time.plot(assets_summary['Return'].to_frame(), title='Return')\n",
    "over_time.plot(assets_summary['Cumulative Return'].to_frame(), title='Cumulative Return')\n",
    "over_time.plot(assets_summary['Applications'].to_frame(), title='Applications')"
   ]
  },
  {
   "cell_type": "markdown",
   "metadata": {},
   "source": [
    "# Liquidations"
   ]
  },
  {
   "cell_type": "code",
   "execution_count": null,
   "metadata": {},
   "outputs": [],
   "source": [
    "from investments import post_liquidation\n",
    "## TODO Add ROI to this table\n",
    "## TODO Add date to liquidation and order by it\n",
    "## TODO Add partial liquidations (CDB Banco Maxima has a lot of investments inside it. Some of them have finished)\n",
    "post_liquidation.final_return(post_liquidation.liquidations_incomes(invest))"
   ]
  },
  {
   "cell_type": "markdown",
   "metadata": {},
   "source": [
    "# Assets goals\n",
    "\n",
    "### (PMS) Patrimônio Mínimo de Sobrevivência\n",
    "\n",
    "Reserva de emergência\n",
    "\n",
    "```6 * Custo mensal```\n",
    "\n",
    "### (PMR) Patrimônio Mínimo Recomendado para segurança \n",
    "\n",
    "Possibilita decisões mais arriscada sobre carreira ou mudanças.\n",
    "\n",
    "```12 * Custo mensal```\n",
    "\n",
    "### (PI) Patrimônio Ideal para idade e consumo \n",
    "\n",
    "Dado os meus gastos mensais atuais, se eu continuar trabalhando até a aposentadoria (65 anos), eu conseguiria viver apenas gastando esse dinheiro.\n",
    "\n",
    "```0.1 * PMR * Idade```\n",
    "\n",
    "### (PNIF) Patrimônio Necessário para a Independência Financeira\n",
    "\n",
    "Dado os meus rendimentos com investimentos, eu conseguiria manter o mesmo padrão apenas com o dinheiro investido\n",
    "\n",
    "```PMR / Rendimento anual %```"
   ]
  },
  {
   "cell_type": "code",
   "execution_count": null,
   "metadata": {},
   "outputs": [],
   "source": [
    "from investments import assets\n",
    "\n",
    "ASSETS_GOALS_START_DATE = BASE_DATE - timedelta(days=365)\n",
    "ASSETS_GOALS_END_DATE = BASE_DATE\n",
    "\n",
    "print(\"Projected return for a year: {:,.4f}%\"\\\n",
    "      .format(assets.projected_return_for_year(invest, ASSETS_GOALS_START_DATE, ASSETS_GOALS_END_DATE) * 100))\n",
    "\n",
    "print(\"Annualized return for a year: {:,.4f}%\"\\\n",
    "      .format(assets.annualized_return(invest, ASSETS_GOALS_START_DATE, ASSETS_GOALS_END_DATE) * 100))\n",
    "\n",
    "from load import expenses\n",
    "expenses = expenses.load(**LOAD_CONFIGS)\n",
    "expenses = expenses[expenses.category != 'renda']\n",
    "\n",
    "expenses_by_month = rs.total_amount_by(rs.groupby_month(expenses), expenses)\n",
    "\n",
    "goals = assets.goals(expenses_by_month,\n",
    "                     invest, \n",
    "                     ASSETS_GOALS_START_DATE,\n",
    "                     ASSETS_GOALS_END_DATE, \n",
    "                     YEAR_OF_BIRTH)\n",
    "\n",
    "display(assets.style_goals(goals))\n",
    "\n",
    "# Define your assets goals and how to distribute them\n",
    "INVESTMENTS_GOAL = {\n",
    "    'Emergência': goals.loc['PMR'].amount,\n",
    "    'Aposentadoria': goals.loc['PI'].amount,\n",
    "    'Experimento': goals.loc['Total'].amount * 0.03,\n",
    "}\n",
    "\n",
    "invest_goals = assets.investment_goals(rs.records_for_month(invest, ASSETS_GOALS_END_DATE), \n",
    "                                       INVESTMENTS_GOAL)\n",
    "assets.investment_goals_plot(invest_goals)\n",
    "\n",
    "# Plot assets over time to see the progression\n",
    "from plotting import over_time\n",
    "over_time.plot(assets_summary.loc[:ASSETS_GOALS_END_DATE.strftime('%Y-%m'), 'Total'].to_frame(), \n",
    "               title='Assets')"
   ]
  }
 ],
 "metadata": {
  "kernelspec": {
   "display_name": "Python 3",
   "language": "python",
   "name": "python3"
  },
  "language_info": {
   "codemirror_mode": {
    "name": "ipython",
    "version": 3
   },
   "file_extension": ".py",
   "mimetype": "text/x-python",
   "name": "python",
   "nbconvert_exporter": "python",
   "pygments_lexer": "ipython3",
   "version": "3.7.3"
  }
 },
 "nbformat": 4,
 "nbformat_minor": 2
}
