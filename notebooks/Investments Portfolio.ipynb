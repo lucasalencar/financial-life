{
 "cells": [
  {
   "cell_type": "code",
   "execution_count": null,
   "id": "virtual-rider",
   "metadata": {},
   "outputs": [],
   "source": [
    "LOAD_CONFIGS = {\n",
    "    'data_path': \"../data\", # Directory that contains the expenses data\n",
    "    'nubank_file_pattern': \"nubank*.csv\",\n",
    "    'splitwise_groups': [\n",
    "        'jacas-keter',\n",
    "        '2021-mozi-e-eu',\n",
    "        '2020-mozi-e-eu',\n",
    "        '2019-mozi-e-eu',\n",
    "        '2018-mozi-e-eu'\n",
    "    ],\n",
    "    'manual_file_pattern': \"Extrato outras contas*Despesas*.csv\",\n",
    "    'incomes_file_pattern': \"Extrato outras contas*Rendimentos*.csv\",\n",
    "    'person_who_pays': \"Lucas Alencar\", # Person name that the expenses will be extracted from Splitwise csv\n",
    "}\n",
    "\n",
    "# Year you were born\n",
    "YEAR_OF_BIRTH = 1991\n",
    "\n",
    "from plotly.offline import init_notebook_mode\n",
    "init_notebook_mode(connected=True)\n",
    "\n",
    "from IPython.display import display\n",
    "\n",
    "from src.load import investments\n",
    "invest = investments.load(**LOAD_CONFIGS)"
   ]
  },
  {
   "cell_type": "markdown",
   "id": "geographic-stopping",
   "metadata": {},
   "source": [
    "## Filtering parameters\n",
    "\n",
    "Use these variable to filter portfolio by different timeframes and investments category."
   ]
  },
  {
   "cell_type": "markdown",
   "id": "critical-birmingham",
   "metadata": {},
   "source": [
    "### Date filters\n",
    "\n",
    "Expected outputs from this cell are:\n",
    "\n",
    "- `BASE_DATE`: date when the analysis is based on\n",
    "- `BASE_PERIOD_START`: start date used for analysis in periods\n",
    "- `BASE_PERIOD_END`: end date used for analysis in periods\n",
    "\n",
    "For dates use `years_ago(base_date, years)` or `months_ago(base_date, months)` to filter the periods."
   ]
  },
  {
   "cell_type": "code",
   "execution_count": null,
   "id": "egyptian-button",
   "metadata": {},
   "outputs": [],
   "source": [
    "from datetime import date\n",
    "from src.date_helpers import years_ago, months_ago, beginning_of_month\n",
    "\n",
    "BASE_DATE = months_ago(beginning_of_month(date.today()), 1)\n",
    "BASE_DATE = date(2020, 12, 1)\n",
    "\n",
    "BASE_PERIOD_START = years_ago(BASE_DATE, 1)\n",
    "BASE_PERIOD_END = BASE_DATE"
   ]
  },
  {
   "cell_type": "markdown",
   "id": "modern-certificate",
   "metadata": {},
   "source": [
    "### Category filters\n",
    "\n",
    "Expected outsputs from this cell are:\n",
    "\n",
    "- `TITLES`: list of investments titles to be considered in the analysis"
   ]
  },
  {
   "cell_type": "code",
   "execution_count": null,
   "id": "adjustable-combat",
   "metadata": {},
   "outputs": [],
   "source": [
    "from src import filters\n",
    "types = []"
   ]
  },
  {
   "cell_type": "markdown",
   "id": "partial-helmet",
   "metadata": {},
   "source": [
    "#### Cripto types"
   ]
  },
  {
   "cell_type": "code",
   "execution_count": null,
   "id": "juvenile-laundry",
   "metadata": {},
   "outputs": [],
   "source": [
    "cripto_types = ['Criptomoedas', 'Bitcoin', 'Ether', 'DAI']\n",
    "types += cripto_types"
   ]
  },
  {
   "cell_type": "markdown",
   "id": "weighted-absence",
   "metadata": {},
   "source": [
    "#### Variable income types"
   ]
  },
  {
   "cell_type": "code",
   "execution_count": null,
   "id": "geographic-protest",
   "metadata": {},
   "outputs": [],
   "source": [
    "variable_income_types = ['Fundos Ações', \n",
    "                         'Fundos Multimercado',\n",
    "                         'Ações',\n",
    "                         'Fundos Imobiliários',\n",
    "                         'ETF',\n",
    "                         'BDR']\n",
    "types += variable_income_types"
   ]
  },
  {
   "cell_type": "markdown",
   "id": "assured-emperor",
   "metadata": {},
   "source": [
    "#### Fixed income types"
   ]
  },
  {
   "cell_type": "code",
   "execution_count": null,
   "id": "exposed-bandwidth",
   "metadata": {},
   "outputs": [],
   "source": [
    "fixed_income_types = ['Renda Fixa', \n",
    "                      'Tesouro Direto',\n",
    "                      'CDB',\n",
    "                      'LCI',\n",
    "                      'LCA',\n",
    "                      'RDB',\n",
    "                      'Tesouro SELIC',\n",
    "                      'Tesouro IPCA',\n",
    "                      'Fundos Renda Fixa']\n",
    "types += fixed_income_types"
   ]
  },
  {
   "cell_type": "code",
   "execution_count": null,
   "id": "continued-confidentiality",
   "metadata": {},
   "outputs": [],
   "source": [
    "TITLES = filters.investment.currently_invested_titles_by_type(invest, types)"
   ]
  },
  {
   "cell_type": "markdown",
   "id": "animal-stewart",
   "metadata": {},
   "source": [
    "## Benchmark metrics\n",
    "\n",
    "Use these metrics to understand how your portfolio is performing compared to inflation and stock market."
   ]
  },
  {
   "cell_type": "code",
   "execution_count": null,
   "id": "complete-journal",
   "metadata": {},
   "outputs": [],
   "source": [
    "from src.load import central_bank\n",
    "current_ipca = central_bank.ipca_for_month(BASE_DATE)\n",
    "current_ipca = current_ipca * 100 if current_ipca else None\n",
    "print(\"IPCA:\", current_ipca, \"%\")\n",
    "\n",
    "# TODO Add monthlty IBOVESPA "
   ]
  },
  {
   "cell_type": "code",
   "execution_count": null,
   "id": "cultural-psychology",
   "metadata": {},
   "outputs": [],
   "source": [
    "from src.investments import monthly as monthly_investments\n",
    "\n",
    "print(\">>> Month of analysis:\", BASE_DATE.month, BASE_DATE.year)\n",
    "\n",
    "RETURN_FOR_MONTH_GOAL = 0.005\n",
    "RETURN_WITH_INFLATION_GOAL = 0.0045\n",
    "\n",
    "# Table with returns for the current month\n",
    "summary_invest = monthly_investments.summary(invest, BASE_DATE).sort_values('Return for month (%)', ascending=False)\n",
    "\n",
    "display(monthly_investments.style_summary(summary_invest, RETURN_FOR_MONTH_GOAL, RETURN_WITH_INFLATION_GOAL))"
   ]
  }
 ],
 "metadata": {
  "kernelspec": {
   "display_name": "Python 3",
   "language": "python",
   "name": "python3"
  },
  "language_info": {
   "codemirror_mode": {
    "name": "ipython",
    "version": 3
   },
   "file_extension": ".py",
   "mimetype": "text/x-python",
   "name": "python",
   "nbconvert_exporter": "python",
   "pygments_lexer": "ipython3",
   "version": "3.7.3"
  }
 },
 "nbformat": 4,
 "nbformat_minor": 5
}
