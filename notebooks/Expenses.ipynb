{
 "cells": [
  {
   "cell_type": "markdown",
   "metadata": {},
   "source": [
    "# Expenses notebook\n",
    "\n",
    "This is a notebook focused to understand where your money is being spent.\n",
    "\n",
    "Below there are some basic configurations necessary to be used with this notebook. With them you can:\n",
    "\n",
    "- Update table to convert some categories depending on data source\n",
    "- Add your expense goals by category\n",
    "- Add splitwise groups\n",
    "- Define manual files to fetch"
   ]
  },
  {
   "cell_type": "code",
   "execution_count": null,
   "metadata": {},
   "outputs": [],
   "source": [
    "NUBANK_CATEGORY_CONVERSION = {\n",
    "    'supermercado': 'mercado',\n",
    "    'eletrônicos':  'compras',\n",
    "    'vestuário':    'compras',\n",
    "    'ajuste':       'outros',\n",
    "}\n",
    "\n",
    "\n",
    "SPLITWISE_CATEGORY_CONVERSION = {\n",
    "    'aluguel':                    'casa',\n",
    "    'tv/telefone/internet':       'casa',\n",
    "    'eletricidade':               'casa',\n",
    "    'manutenção':                 'casa',\n",
    "    'casa - outros':              'casa',\n",
    "    'serviços':                   'casa',\n",
    "    'móveis':                     'casa',\n",
    "    'limpeza':                    'casa',\n",
    "    'animais de estimação':       'casa',\n",
    "    'aquecimento/gás':            'casa',\n",
    "    'jantar fora':                'restaurante',\n",
    "    'comidas e bebidas - outros': 'restaurante',\n",
    "    'produtos de limpeza':        'mercado',\n",
    "    'bebidas alcoólicas':         'mercado',\n",
    "    'táxi':                       'transporte',\n",
    "    'estacionamento':             'transporte',\n",
    "    'transporte - outros':        'transporte',\n",
    "    'filmes':                     'lazer',\n",
    "    'música':                     'lazer',\n",
    "    'bicicleta':                  'lazer',\n",
    "    'jogos':                      'lazer',\n",
    "    'entretenimento - outros':    'lazer',\n",
    "    'esportes':                   'lazer',\n",
    "    'despesas médicas':           'saúde',\n",
    "    'eletrônicos':                'compras',\n",
    "    'vestuário':                  'compras',\n",
    "    'hotel':                      'viagem',\n",
    "    'ônibus/trem':                'viagem',\n",
    "    'avião':                      'viagem',\n",
    "    'combustível':                'viagem',\n",
    "    'carro':                      'viagem',\n",
    "    'seguro':                     'outros',\n",
    "    'vida - outros':              'outros',\n",
    "    'geral':                      'outros',\n",
    "    'presentes':                  'outros',\n",
    "    'impostos':                   'outros',\n",
    "    'creche':                     'outros',\n",
    "    'empréstimo':                 'outros',\n",
    "}\n",
    "\n",
    "EXPENSES_DISTRIBUTION = {\n",
    "    'casa': 0.24,\n",
    "    'restaurante': 0.09,\n",
    "    'mercado': 0.09,\n",
    "    'lazer': 0.02,\n",
    "    'transporte': 0.02,\n",
    "    'compras': 0.01,\n",
    "    'saúde': 0.01\n",
    "}\n",
    "\n",
    "LOAD_CONFIGS = {\n",
    "    'data_path': \"../data\", # Directory that contains the expenses data\n",
    "    'nubank_file_pattern': \"nubank*.csv\",\n",
    "    'splitwise_groups': [\n",
    "        'ubatuba',\n",
    "        'migus',\n",
    "        'jacas-keter',\n",
    "        '2022-mozi-e-eu',\n",
    "        '2021-mozi-e-eu',\n",
    "        '2020-mozi-e-eu',\n",
    "        '2019-mozi-e-eu',\n",
    "        '2018-mozi-e-eu'\n",
    "    ],\n",
    "    'manual_file_pattern': \"Extrato outras contas*Despesas*.csv\",\n",
    "    'incomes_file_pattern': \"Extrato outras contas*Rendimentos*.csv\",\n",
    "    'person_who_pays': \"Lucas Alencar\", # Person name that the expenses will be extracted from Splitwise csv\n",
    "    'splitwise_category_table': SPLITWISE_CATEGORY_CONVERSION,\n",
    "    'nubank_category_table': NUBANK_CATEGORY_CONVERSION,\n",
    "}"
   ]
  },
  {
   "cell_type": "code",
   "execution_count": null,
   "metadata": {},
   "outputs": [],
   "source": [
    "from datetime import date, timedelta\n",
    "from src.date_helpers import months_ago, years_ago\n",
    "from plotly.offline import init_notebook_mode\n",
    "from IPython.display import display\n",
    "import src.record_summary as rs\n",
    "from src.load import expenses\n",
    "\n",
    "# Date used to make month analysis through the notebook\n",
    "BASE_DATE = months_ago(date.today(), 1)\n",
    "\n",
    "# Period used for analysis\n",
    "BASE_PERIOD_START = years_ago(BASE_DATE, 1)\n",
    "BASE_PERIOD_END = BASE_DATE\n",
    "\n",
    "# Year you were born\n",
    "YEAR_OF_BIRTH = 1991\n",
    "\n",
    "## Data load and preprocess\n",
    "init_notebook_mode(connected=True)\n",
    "\n",
    "expenses = expenses.load(**LOAD_CONFIGS)"
   ]
  },
  {
   "cell_type": "markdown",
   "metadata": {},
   "source": [
    "# Monthly view"
   ]
  },
  {
   "cell_type": "code",
   "execution_count": null,
   "metadata": {},
   "outputs": [],
   "source": [
    "from src.load import filters\n",
    "from src.expenses import monthly as monthly_expenses\n",
    "\n",
    "MONTHLY_BALANCE_GOAL = 0.45\n",
    "print(\" >>> Monthly balance goal:\", MONTHLY_BALANCE_GOAL * 100, \"%\")\n",
    "\n",
    "# MONTHLY_EXPENSES_START_PERIOD = date(2018,1,1)\n",
    "MONTHLY_EXPENSES_START_PERIOD = BASE_PERIOD_START\n",
    "MONTHLY_EXPENSES_END_PERIOD = BASE_PERIOD_END\n",
    "\n",
    "monthly_view = filters.by_monthly_period(expenses, \n",
    "                                         MONTHLY_EXPENSES_START_PERIOD, \n",
    "                                         MONTHLY_EXPENSES_END_PERIOD)\n",
    "\n",
    "expenses_period = monthly_view[monthly_view.category != 'renda']\n",
    "incomes_period = monthly_view[monthly_view.category == 'renda']\n",
    "\n",
    "monthly_exp = monthly_expenses.month_by_month_summary(expenses_period, incomes_period)\n",
    "display(monthly_expenses.style_summary(monthly_exp, MONTHLY_BALANCE_GOAL))\n",
    "\n",
    "avg_monthly_exp = monthly_expenses.avg_month_summary(expenses_period, incomes_period)\n",
    "display(monthly_expenses.style_summary(avg_monthly_exp, MONTHLY_BALANCE_GOAL))\n",
    "\n",
    "monthly_expenses.plot(monthly_exp)"
   ]
  },
  {
   "cell_type": "markdown",
   "metadata": {},
   "source": [
    "# Category view"
   ]
  },
  {
   "cell_type": "code",
   "execution_count": null,
   "metadata": {},
   "outputs": [],
   "source": [
    "from src.expenses import category\n",
    "\n",
    "print(\">>> Month of analysis: \", BASE_DATE.month, BASE_DATE.year)\n",
    "\n",
    "month_view = rs.records_for_month(expenses, BASE_DATE)\n",
    "\n",
    "expenses_for_month = month_view[month_view.category != 'renda']\n",
    "incomes_for_month = month_view[month_view.category == 'renda']\n",
    "\n",
    "expenses_for_category_by_total = category.distribution(expenses_for_month, incomes_for_month, EXPENSES_DISTRIBUTION)\n",
    "display(category.style_distribution(expenses_for_category_by_total))\n",
    "\n",
    "from src.plotting import pie\n",
    "pie.plot(expenses_for_category_by_total['% by expenses'], height=400)\n",
    "\n",
    "# TODO Pie plot for % by income"
   ]
  },
  {
   "cell_type": "code",
   "execution_count": null,
   "metadata": {
    "scrolled": false
   },
   "outputs": [],
   "source": [
    "import pandas as pd\n",
    "\n",
    "def list_category_expenses(category):\n",
    "    print(\">>> Month of analysis: \", BASE_DATE.month, BASE_DATE.year)\n",
    "    max_rows =  pd.get_option('display.max_rows')\n",
    "    pd.set_option('display.max_rows', None) \n",
    "\n",
    "    # BASE_DATE = date(2020, 7, 1)\n",
    "    month_view = rs.records_for_month(expenses, BASE_DATE)\n",
    "    \n",
    "    print(\"Expenses for category\", category)\n",
    "    display(month_view[(month_view.category == category)].sort_values(['date', 'title']))\n",
    "    pd.set_option('display.max_rows', max_rows) \n",
    "\n",
    "def top_expenses(category, top):\n",
    "    print(\"TOP\", top, \"expenses for\", category)\n",
    "    display(month_view[(month_view.category == category)].nsmallest(top, 'amount'))"
   ]
  },
  {
   "cell_type": "code",
   "execution_count": null,
   "metadata": {
    "scrolled": false
   },
   "outputs": [],
   "source": [
    "list_category_expenses('casa')\n",
    "top_expenses('casa', 10)"
   ]
  },
  {
   "cell_type": "code",
   "execution_count": null,
   "metadata": {
    "scrolled": false
   },
   "outputs": [],
   "source": [
    "list_category_expenses('restaurante')\n",
    "top_expenses('restaurante', 10)"
   ]
  },
  {
   "cell_type": "code",
   "execution_count": null,
   "metadata": {
    "scrolled": false
   },
   "outputs": [],
   "source": [
    "list_category_expenses('mercado')"
   ]
  },
  {
   "cell_type": "code",
   "execution_count": null,
   "metadata": {},
   "outputs": [],
   "source": [
    "list_category_expenses('educação')"
   ]
  },
  {
   "cell_type": "code",
   "execution_count": null,
   "metadata": {},
   "outputs": [],
   "source": [
    "list_category_expenses('saúde')"
   ]
  },
  {
   "cell_type": "code",
   "execution_count": null,
   "metadata": {},
   "outputs": [],
   "source": [
    "list_category_expenses('lazer')"
   ]
  },
  {
   "cell_type": "code",
   "execution_count": null,
   "metadata": {},
   "outputs": [],
   "source": [
    "list_category_expenses('serviços')"
   ]
  },
  {
   "cell_type": "code",
   "execution_count": null,
   "metadata": {},
   "outputs": [],
   "source": [
    "list_category_expenses('transporte')"
   ]
  },
  {
   "cell_type": "code",
   "execution_count": null,
   "metadata": {},
   "outputs": [],
   "source": [
    "list_category_expenses('compras')"
   ]
  },
  {
   "cell_type": "code",
   "execution_count": null,
   "metadata": {},
   "outputs": [],
   "source": [
    "list_category_expenses('viagem')"
   ]
  },
  {
   "cell_type": "code",
   "execution_count": null,
   "metadata": {},
   "outputs": [],
   "source": [
    "list_category_expenses('outros')\n",
    "top_expenses('outros', 10)"
   ]
  },
  {
   "cell_type": "code",
   "execution_count": null,
   "metadata": {},
   "outputs": [],
   "source": [
    "from src.load import filters\n",
    "from src.expenses import category\n",
    "\n",
    "# CATEGORY_EXPENSES_START_PERIOD = date(2018,1,1)\n",
    "CATEGORY_EXPENSES_START_PERIOD = BASE_PERIOD_START\n",
    "CATEGORY_EXPENSES_END_PERIOD = BASE_PERIOD_END\n",
    "\n",
    "monthly_view = filters.by_monthly_period(expenses, \n",
    "                                         CATEGORY_EXPENSES_START_PERIOD, \n",
    "                                         CATEGORY_EXPENSES_END_PERIOD)\n",
    "\n",
    "# Plots over time for each category grouping them by easy of read\n",
    "expenses_over_time_data = category.add_food_expenses(monthly_view, \n",
    "                                                     category.over_time(monthly_view, expenses, 'amount #'))\n",
    "\n",
    "from src.plotting import over_time\n",
    "over_time.plot(expenses_over_time_data[['casa']])\n",
    "over_time.plot(expenses_over_time_data[['restaurante', 'mercado', 'alimentação']])\n",
    "over_time.plot(expenses_over_time_data[['lazer', 'saúde', 'educação', 'serviços']])\n",
    "over_time.plot(expenses_over_time_data[['viagem', 'compras', 'transporte']])\n",
    "over_time.plot(expenses_over_time_data[['outros']])"
   ]
  },
  {
   "cell_type": "markdown",
   "metadata": {},
   "source": [
    "# How much my time is worth?"
   ]
  },
  {
   "cell_type": "code",
   "execution_count": null,
   "metadata": {},
   "outputs": [],
   "source": [
    "from src.incomes import salary\n",
    "\n",
    "HOURS_WORKED_BY_DAY = 8.8 # According to CLT\n",
    "\n",
    "# BASE_DATE = date(2019,7,1)\n",
    "\n",
    "earned_for_month = salary.earned_for_month(expenses, BASE_DATE)\n",
    "hours_worked_by_month = salary.hours_worked_for_month(HOURS_WORKED_BY_DAY, BASE_DATE)\n",
    "money_for_time = earned_for_month / hours_worked_by_month\n",
    "\n",
    "msg = \"\"\"In {}, you have earned {}.\n",
    "Given you have worked for {:,.2f} hours in this month.\n",
    "Your time is worth {:,.2f} R$/hour.\n",
    "Not considering holidays or vacations.\"\"\"\n",
    "\n",
    "print(msg.format(BASE_DATE.strftime('%Y-%m'), earned_for_month, hours_worked_by_month, money_for_time))\n",
    "print(\"Work {:,.2f} hours to get R$ 100\".format(100 / money_for_time))"
   ]
  }
 ],
 "metadata": {
  "kernelspec": {
   "display_name": "Python 3",
   "language": "python",
   "name": "python3"
  },
  "language_info": {
   "codemirror_mode": {
    "name": "ipython",
    "version": 3
   },
   "file_extension": ".py",
   "mimetype": "text/x-python",
   "name": "python",
   "nbconvert_exporter": "python",
   "pygments_lexer": "ipython3",
   "version": "3.7.3"
  }
 },
 "nbformat": 4,
 "nbformat_minor": 2
}
